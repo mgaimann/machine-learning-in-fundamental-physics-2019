{
 "cells": [
  {
   "cell_type": "markdown",
   "metadata": {},
   "source": [
    "# Exercise Sheet 3"
   ]
  },
  {
   "cell_type": "code",
   "execution_count": 2,
   "metadata": {},
   "outputs": [],
   "source": [
    "# Import necessary libraries\n",
    "import time\n",
    "import numpy as np\n",
    "import matplotlib.pyplot as plt\n",
    "from sklearn import metrics\n",
    "from sklearn.datasets import fetch_openml # MNIST data\n",
    "from sklearn import linear_model\n",
    "from sklearn.preprocessing import StandardScaler\n",
    "from sklearn.model_selection import train_test_split\n",
    "from sklearn.utils import check_random_state\n",
    "%matplotlib inline"
   ]
  },
  {
   "cell_type": "markdown",
   "metadata": {},
   "source": [
    "## [1] MNIST - regression\n",
    "The aim of this exercise is to get some experience with logistic regression and regularisation. We\n",
    "shall use the implementations in sklearn for this exercise.\n",
    "* Using the SGDClassifer and the LogisticRegression, build classifers for the MNIST dataset.  \n",
    "* Find some handwritten digits which your classifers are not capable of classifying correctly. How do they differ from correctly classifed digits?  \n",
    "* Scan over hyper-parameters (i.e. l1, l2 regularisation, different optimisers) and compare the\n",
    "performance.  \n",
    "* Compare your results to results you would have obtained by pure random guessing."
   ]
  },
  {
   "cell_type": "markdown",
   "metadata": {},
   "source": [
    "### Solution"
   ]
  },
  {
   "cell_type": "code",
   "execution_count": 3,
   "metadata": {},
   "outputs": [],
   "source": [
    "# Code adapted from the \"A high-bias, low-variance introduction to Machine Learning for physicists\" review by Mehta et al.\n",
    "\n",
    "### load MNIST data from https://www.openml.org/d/554\n",
    "X, y = fetch_openml('mnist_784', version=1, return_X_y=True)"
   ]
  },
  {
   "cell_type": "markdown",
   "metadata": {},
   "source": [
    "Please have a look at the *excellent* [documentation of sklearn](https://scikit-learn.org/stable/modules/linear_model.html). There you will also find detailed information on the different solvers."
   ]
  },
  {
   "cell_type": "code",
   "execution_count": 4,
   "metadata": {},
   "outputs": [],
   "source": [
    "train_size = 10000\n",
    "test_size = 2000\n",
    "\n",
    "# shuffle data\n",
    "random_state = check_random_state(0)\n",
    "permutation = random_state.permutation(X.shape[0])\n",
    "X = X[permutation]\n",
    "y = y[permutation]\n",
    "\n",
    "# pick training and test data sets \n",
    "X_train, X_test, y_train, y_test = train_test_split(X, y, train_size=train_size, test_size=test_size)\n",
    "\n",
    "# scale data to have zero mean and unit variance [required by regressor]\n",
    "scaler = StandardScaler()\n",
    "X_train = scaler.fit_transform(X_train) # fit AND transform\n",
    "X_test = scaler.transform(X_test)"
   ]
  },
  {
   "cell_type": "code",
   "execution_count": 10,
   "metadata": {},
   "outputs": [],
   "source": [
    "def log_classify(reg_strength=1e4, multi_class='multinomial', penalty='l2', solver='sag', tol=1e-2):\n",
    "    t0 = time.time()\n",
    "    # apply logistic regressor with 'sag' solver, C is the inverse regularization strength\n",
    "    clf = linear_model.LogisticRegression(C=reg_strength, multi_class=multi_class, penalty=penalty, solver=solver, tol=tol)\n",
    "    # fit data\n",
    "    clf.fit(X_train, y_train)\n",
    "    # percentage of nonzero weights\n",
    "    sparsity = np.mean(clf.coef_ == 0) * 100\n",
    "    # compute accuracy\n",
    "    score = clf.score(X_test, y_test)\n",
    "\n",
    "    #display run time\n",
    "    run_time = time.time() - t0\n",
    "    print('Example run in %.3f s' % run_time)\n",
    "    print(\"Sparsity: %.2f%%\" % sparsity)\n",
    "    print(\"Testscore: %.4f\" % score)\n",
    "    return clf"
   ]
  },
  {
   "cell_type": "code",
   "execution_count": 11,
   "metadata": {},
   "outputs": [
    {
     "name": "stdout",
     "output_type": "stream",
     "text": [
      "Example run in 16.041 s\n",
      "Sparsity: 13.52%\n",
      "Testscore: 0.9010\n"
     ]
    }
   ],
   "source": [
    "log_model = log_classify()"
   ]
  },
  {
   "cell_type": "code",
   "execution_count": 14,
   "metadata": {},
   "outputs": [],
   "source": [
    "# SGDClassifier\n",
    "\n",
    "def SGD_classify():\n",
    "    t0 = time.time()\n",
    "    clf = linear_model.SGDClassifier(loss='log', max_iter=5, tol=1e-5)\n",
    "    clf.fit(X_train, y_train)\n",
    "    score = clf.score(X_test, y_test)\n",
    "    \n",
    "    #display run time\n",
    "    run_time = time.time() - t0\n",
    "    print('Example run in %.3f s' % run_time)\n",
    "    print(\"Testscore: %.4f\" % score)\n",
    "    return clf"
   ]
  },
  {
   "cell_type": "code",
   "execution_count": 15,
   "metadata": {},
   "outputs": [
    {
     "name": "stdout",
     "output_type": "stream",
     "text": [
      "Example run in 1.394 s\n",
      "Testscore: 0.8910\n"
     ]
    },
    {
     "name": "stderr",
     "output_type": "stream",
     "text": [
      "/Users/danielk/anaconda3/lib/python3.7/site-packages/sklearn/linear_model/stochastic_gradient.py:603: ConvergenceWarning: Maximum number of iteration reached before convergence. Consider increasing max_iter to improve the fit.\n",
      "  ConvergenceWarning)\n"
     ]
    }
   ],
   "source": [
    "SGD_model = SGD_classify()"
   ]
  },
  {
   "cell_type": "code",
   "execution_count": 16,
   "metadata": {
    "scrolled": false
   },
   "outputs": [
    {
     "data": {
      "image/png": "[encoded data removed]",
      "text/plain": [
       "<Figure size 720x360 with 10 Axes>"
      ]
     },
     "metadata": {},
     "output_type": "display_data"
    }
   ],
   "source": [
    "# Find examples that were not classified correctly:\n",
    "\n",
    "# We use a boolean mask to get those which were not classified correctly -> see 'SupplementaryMaterial3.ipynb'\n",
    "mask = (log_model.predict(X_test) != y_test)\n",
    "X_false = X_test[mask]\n",
    "\n",
    "\n",
    "#plot a few next to each other\n",
    "plt.figure(figsize=(10, 5))\n",
    "for i in range(10):\n",
    "    l2_plot = plt.subplot(2, 5, i + 1)\n",
    "    l2_plot.imshow(X_false[i].reshape(28, 28), interpolation='nearest',\n",
    "                   cmap=plt.cm.Greys)\n",
    "    l2_plot.set_xticks(())\n",
    "    l2_plot.set_yticks(())\n",
    "#plt.subplots_adjust(wspace=-0.8,hspace=0, left=0,right=0.5)"
   ]
  },
  {
   "cell_type": "code",
   "execution_count": 17,
   "metadata": {},
   "outputs": [
    {
     "data": {
      "image/png": "[encoded data removed]",
      "text/plain": [
       "<Figure size 720x360 with 10 Axes>"
      ]
     },
     "metadata": {},
     "output_type": "display_data"
    }
   ],
   "source": [
    "# Compare to correctly classified ones\n",
    "\n",
    "# We use a boolean mask to get those which were classified correctly\n",
    "mask = (log_model.predict(X_test) == y_test)\n",
    "X_true = X_test[mask]\n",
    "\n",
    "\n",
    "#plot a few next to each other\n",
    "plt.figure(figsize=(10, 5))\n",
    "for i in range(10):\n",
    "    l2_plot = plt.subplot(2, 5, i + 1)\n",
    "    l2_plot.imshow(X_true[i].reshape(28, 28), interpolation='nearest',\n",
    "                   cmap=plt.cm.Greys)\n",
    "    l2_plot.set_xticks(())\n",
    "    l2_plot.set_yticks(())"
   ]
  },
  {
   "cell_type": "markdown",
   "metadata": {},
   "source": [
    "We see that those numbers with a lot of straight lines are easier to classify than the ones with loops. The performance on the number 8 seems to be particularly bad. Let's quantify this:"
   ]
  },
  {
   "cell_type": "code",
   "execution_count": 18,
   "metadata": {
    "scrolled": false
   },
   "outputs": [
    {
     "data": {
      "image/png": "[encoded data removed]",
      "text/plain": [
       "<Figure size 432x288 with 4 Axes>"
      ]
     },
     "metadata": {
      "needs_background": "light"
     },
     "output_type": "display_data"
    },
    {
     "data": {
      "image/png": "[encoded data removed]",
      "text/plain": [
       "<Figure size 432x288 with 4 Axes>"
      ]
     },
     "metadata": {
      "needs_background": "light"
     },
     "output_type": "display_data"
    },
    {
     "data": {
      "image/png": "[encoded data removed]",
      "text/plain": [
       "<Figure size 432x288 with 2 Axes>"
      ]
     },
     "metadata": {
      "needs_background": "light"
     },
     "output_type": "display_data"
    }
   ],
   "source": [
    "# again we use boolean masking to extract the number of wrongly predited digits.\n",
    "\n",
    "plt.figure()\n",
    "for i in range(4):\n",
    "    prediction_per_class = log_model.predict(X_test)[y_test==str(i)]\n",
    "    unique, counts = np.unique(prediction_per_class, return_counts=True)\n",
    "    plt.subplot(2, 2, i+1)\n",
    "    plt.bar(unique[unique!=str(i)], 100*counts[unique!=str(i)]/len(prediction_per_class))\n",
    "    plt.title('Misclassification of ' + str(i) + ' in Percent')\n",
    "    plt.xlabel('Classified as')\n",
    "plt.tight_layout()\n",
    "\n",
    "plt.figure()\n",
    "for i in range(4,8):\n",
    "    prediction_per_class = log_model.predict(X_test)[y_test==str(i)]\n",
    "    unique, counts = np.unique(prediction_per_class, return_counts=True)\n",
    "    plt.subplot(2, 2, i-3)\n",
    "    plt.bar(unique[unique!=str(i)], 100*counts[unique!=str(i)]/len(prediction_per_class))\n",
    "    plt.title('Misclassification of ' + str(i) + ' in Percent')\n",
    "    plt.xlabel('Classified as')\n",
    "plt.tight_layout()\n",
    "\n",
    "plt.figure()\n",
    "for i in range(8,10):\n",
    "    prediction_per_class = log_model.predict(X_test)[y_test==str(i)]\n",
    "    unique, counts = np.unique(prediction_per_class, return_counts=True)\n",
    "    plt.subplot(2, 2, i-7)\n",
    "    plt.bar(unique[unique!=str(i)], 100*counts[unique!=str(i)]/len(prediction_per_class))\n",
    "    plt.title('Misclassification of ' + str(i) + ' in Percent')\n",
    "    plt.xlabel('Classified as')\n",
    "plt.tight_layout()"
   ]
  },
  {
   "cell_type": "markdown",
   "metadata": {},
   "source": [
    "We see that 9,8 and 5 are very problematic. 1 is the easiest to classify (intuitively obvious)."
   ]
  },
  {
   "cell_type": "markdown",
   "metadata": {},
   "source": [
    "Now try L1 regularization"
   ]
  },
  {
   "cell_type": "code",
   "execution_count": 25,
   "metadata": {},
   "outputs": [
    {
     "name": "stdout",
     "output_type": "stream",
     "text": [
      "Example run in 44.153 s\n",
      "Sparsity: 13.52%\n",
      "Testscore: 0.9015\n"
     ]
    },
    {
     "data": {
      "text/plain": [
       "LogisticRegression(C=10000.0, class_weight=None, dual=False,\n",
       "          fit_intercept=True, intercept_scaling=1, max_iter=100,\n",
       "          multi_class='multinomial', n_jobs=None, penalty='l1',\n",
       "          random_state=None, solver='saga', tol=0.01, verbose=0,\n",
       "          warm_start=False)"
      ]
     },
     "execution_count": 25,
     "metadata": {},
     "output_type": "execute_result"
    }
   ],
   "source": [
    "# we use the saga solver because it supports l1 regularization\n",
    "log_classify(reg_strength=1e4, multi_class='multinomial', penalty='l1', solver='saga', tol=1e-2)"
   ]
  },
  {
   "cell_type": "markdown",
   "metadata": {},
   "source": [
    "We see that there is no significant difference. Let's try other choices of solvers. Supported are (‘newton-cg’, ‘lbfgs’, ‘liblinear’, ‘sag’, ‘saga’)"
   ]
  },
  {
   "cell_type": "code",
   "execution_count": 26,
   "metadata": {},
   "outputs": [
    {
     "name": "stdout",
     "output_type": "stream",
     "text": [
      "Example run in 137.512 s\n",
      "Sparsity: 13.52%\n",
      "Testscore: 0.8525\n"
     ]
    },
    {
     "data": {
      "text/plain": [
       "LogisticRegression(C=10000.0, class_weight=None, dual=False,\n",
       "          fit_intercept=True, intercept_scaling=1, max_iter=100,\n",
       "          multi_class='ovr', n_jobs=None, penalty='l2', random_state=None,\n",
       "          solver='liblinear', tol=0.01, verbose=0, warm_start=False)"
      ]
     },
     "execution_count": 26,
     "metadata": {},
     "output_type": "execute_result"
    }
   ],
   "source": [
    "log_classify(reg_strength=1e4, multi_class='ovr', penalty='l2', solver='liblinear', tol=1e-2)"
   ]
  },
  {
   "cell_type": "markdown",
   "metadata": {},
   "source": [
    "Runtime is significantly longer. The result is also significantly worse."
   ]
  },
  {
   "cell_type": "code",
   "execution_count": 27,
   "metadata": {},
   "outputs": [
    {
     "name": "stdout",
     "output_type": "stream",
     "text": [
      "Example run in 37.230 s\n",
      "Sparsity: 13.52%\n",
      "Testscore: 0.8565\n"
     ]
    },
    {
     "data": {
      "text/plain": [
       "LogisticRegression(C=10000.0, class_weight=None, dual=False,\n",
       "          fit_intercept=True, intercept_scaling=1, max_iter=100,\n",
       "          multi_class='multinomial', n_jobs=None, penalty='l2',\n",
       "          random_state=None, solver='newton-cg', tol=0.01, verbose=0,\n",
       "          warm_start=False)"
      ]
     },
     "execution_count": 27,
     "metadata": {},
     "output_type": "execute_result"
    }
   ],
   "source": [
    "log_classify(reg_strength=1e4, multi_class='multinomial', penalty='l2', solver='newton-cg', tol=1e-2)"
   ]
  },
  {
   "cell_type": "markdown",
   "metadata": {},
   "source": [
    "Result is comparatively poor."
   ]
  },
  {
   "cell_type": "code",
   "execution_count": 29,
   "metadata": {},
   "outputs": [
    {
     "name": "stdout",
     "output_type": "stream",
     "text": [
      "Example run in 3.667 s\n",
      "Sparsity: 13.52%\n",
      "Testscore: 0.8625\n"
     ]
    },
    {
     "name": "stderr",
     "output_type": "stream",
     "text": [
      "/Users/danielk/anaconda3/lib/python3.7/site-packages/sklearn/linear_model/logistic.py:758: ConvergenceWarning: lbfgs failed to converge. Increase the number of iterations.\n",
      "  \"of iterations.\", ConvergenceWarning)\n"
     ]
    },
    {
     "data": {
      "text/plain": [
       "LogisticRegression(C=10000.0, class_weight=None, dual=False,\n",
       "          fit_intercept=True, intercept_scaling=1, max_iter=100,\n",
       "          multi_class='multinomial', n_jobs=None, penalty='l2',\n",
       "          random_state=None, solver='lbfgs', tol=0.01, verbose=0,\n",
       "          warm_start=False)"
      ]
     },
     "execution_count": 29,
     "metadata": {},
     "output_type": "execute_result"
    }
   ],
   "source": [
    "log_classify(reg_strength=1e4, multi_class='multinomial', penalty='l2', solver='lbfgs', tol=1e-2)"
   ]
  },
  {
   "cell_type": "markdown",
   "metadata": {},
   "source": [
    "This is quite fast but gives a poor result."
   ]
  },
  {
   "cell_type": "markdown",
   "metadata": {},
   "source": [
    "You are invited to also explore what happens if we change the tolerance and regularization strength. Looping over this should be quite straightforward given the function ``log_classify()``."
   ]
  },
  {
   "cell_type": "markdown",
   "metadata": {},
   "source": [
    "Of course we see that all of the results are much better than random guessing, which would have a 0.1 success rate."
   ]
  },
  {
   "cell_type": "markdown",
   "metadata": {},
   "source": [
    "## [2] 1D Ising - Regression\n",
    "In the lecture we have shown different performances of linear regression on predicting the energy in\n",
    "the 1D Ising model depending on our choice of regularisation. The aim of this exercise is to analyse\n",
    "this performance a bit further.  \n",
    "* Instead of the built-in scoring function, plot the error $E_{out}$ for the choice of parameters used in\n",
    "the lecture.  \n",
    "* How does the performance change when changing the number of samples?  "
   ]
  },
  {
   "cell_type": "markdown",
   "metadata": {},
   "source": [
    "### Solution"
   ]
  },
  {
   "cell_type": "markdown",
   "metadata": {},
   "source": [
    "We copy the code from the lecture:"
   ]
  },
  {
   "cell_type": "code",
   "execution_count": 24,
   "metadata": {
    "scrolled": false
   },
   "outputs": [],
   "source": [
    "# Wrap the code from the lecture in to a function 'ising()' because we want to adjust the number of samples later. \n",
    "def ising(n_samples, L):\n",
    "    # create 10000 random Ising states\n",
    "    states = np.random.choice([-1, 1], size=(10000, L))\n",
    "\n",
    "    def ising_energies(states,L):\n",
    "        \"\"\"\n",
    "        This function calculates the energies of the states in the nn Ising Hamiltonian\n",
    "        \"\"\"\n",
    "        J = np.zeros((L,L),)\n",
    "        for i in range(L):\n",
    "            J[i,(i+1)%L] -= 1.0\n",
    "        # compute energies\n",
    "        E = np.einsum('...i,ij,...j->...',states,J,states)\n",
    "\n",
    "        return E\n",
    "    # calculate Ising energies\n",
    "    energies=ising_energies(states,L)\n",
    "\n",
    "    # reshape Ising states into RL samples: S_iS_j --> X_p\n",
    "    states = np.einsum('...i,...j->...ij', states, states)\n",
    "    shape = states.shape\n",
    "    states = states.reshape((shape[0],shape[1]*shape[2]))\n",
    "    # build final data set\n",
    "    Data = [states,energies]\n",
    "\n",
    "    # define train and test data sets\n",
    "    X_train = Data[0][:n_samples]\n",
    "    Y_train = Data[1][:n_samples] #+ np.random.normal(0,4.0,size=X_train.shape[0])\n",
    "    X_test = Data[0][n_samples:3*n_samples//2]\n",
    "    Y_test = Data[1][n_samples:3*n_samples//2] #+ np.random.normal(0,4.0,size=X_test.shape[0])\n",
    "\n",
    "    # set up Lasso and Ridge Regression models\n",
    "    leastsq=linear_model.LinearRegression()\n",
    "    ridge=linear_model.Ridge()\n",
    "    lasso = linear_model.Lasso()\n",
    "\n",
    "    # define error lists\n",
    "    test_errors_leastsq = []\n",
    "\n",
    "    test_errors_ridge = []\n",
    "\n",
    "    test_errors_lasso = []\n",
    "\n",
    "    # set regularisations trength values\n",
    "    lmbdas = np.logspace(-4, 5, 10)\n",
    "\n",
    "    #Initialize coeffficients for ridge regression and Lasso\n",
    "    coefs_leastsq = []\n",
    "    coefs_ridge = []\n",
    "    coefs_lasso = []\n",
    "\n",
    "    for lmbda in lmbdas:\n",
    "\n",
    "        ### ordinary least squares\n",
    "        leastsq.fit(X_train, Y_train) # fit model \n",
    "        coefs_leastsq.append(leastsq.coef_) # store weights\n",
    "        # use the coefficient of determination R^2 as the performance of prediction.\n",
    "        #train_errors_leastsq.append(leastsq.score(X_train, Y_train))\n",
    "        #test_errors_leastsq.append(leastsq.score(X_test,Y_test))\n",
    "\n",
    "        # use E_out as a measure of performance\n",
    "        test_errors_leastsq.append(metrics.mean_squared_error(leastsq.predict(X_test),Y_test))\n",
    "\n",
    "        ### apply Ridge regression\n",
    "        ridge.set_params(alpha = lmbda) # set regularisation parameter\n",
    "        ridge.fit(X_train, Y_train) # fit model \n",
    "        coefs_ridge.append(ridge.coef_) # store weights\n",
    "        # use the coefficient of determination R^2 as the performance of prediction.\n",
    "        #train_errors_ridge.append(ridge.score(X_train, Y_train))\n",
    "        #test_errors_ridge.append(ridge.score(X_test,Y_test))\n",
    "\n",
    "        # use E_out as a measure of performance\n",
    "        test_errors_ridge.append(metrics.mean_squared_error(ridge.predict(X_test),Y_test))\n",
    "\n",
    "        ### apply Ridge regression\n",
    "        lasso.set_params(alpha = lmbda) # set regularisation parameter\n",
    "        lasso.fit(X_train, Y_train) # fit model\n",
    "        coefs_lasso.append(lasso.coef_) # store weights\n",
    "        # use the coefficient of determination R^2 as the performance of prediction.\n",
    "        #train_errors_lasso.append(lasso.score(X_train, Y_train))\n",
    "        #test_errors_lasso.append(lasso.score(X_test,Y_test))\n",
    "\n",
    "        # use E_out as a measure of performance\n",
    "        test_errors_lasso.append(metrics.mean_squared_error(lasso.predict(X_test),Y_test))\n",
    "    return [test_errors_leastsq, test_errors_ridge, test_errors_lasso]\n",
    "\n",
    "\n",
    "# Plotting routine for visualizing Eout vs. regularization strength\n",
    "def plot_ising_error(plot_title, errors):\n",
    "    plt.figure()\n",
    "    lmbdas = np.logspace(-4, 5, 10)\n",
    "    plt.scatter(np.log(lmbdas), errors[0], label = 'leastsq', marker = 'x')\n",
    "    plt.scatter(np.log(lmbdas), errors[1], label = 'ridge')\n",
    "    plt.scatter(np.log(lmbdas), errors[2], label = 'lasso', marker = '+')\n",
    "    plt.legend()\n",
    "    plt.ylabel('$E_{out}$')\n",
    "    plt.title(plot_title)\n",
    "    plt.xlabel('log($\\lambda$) [regularization strength]')"
   ]
  },
  {
   "cell_type": "code",
   "execution_count": 25,
   "metadata": {},
   "outputs": [
    {
     "name": "stderr",
     "output_type": "stream",
     "text": [
      "/Users/danielk/anaconda3/lib/python3.7/site-packages/sklearn/linear_model/coordinate_descent.py:492: ConvergenceWarning: Objective did not converge. You might want to increase the number of iterations. Fitting data with very small alpha may cause precision problems.\n",
      "  ConvergenceWarning)\n",
      "/Users/danielk/anaconda3/lib/python3.7/site-packages/sklearn/linear_model/coordinate_descent.py:492: ConvergenceWarning: Objective did not converge. You might want to increase the number of iterations. Fitting data with very small alpha may cause precision problems.\n",
      "  ConvergenceWarning)\n",
      "/Users/danielk/anaconda3/lib/python3.7/site-packages/sklearn/linear_model/coordinate_descent.py:492: ConvergenceWarning: Objective did not converge. You might want to increase the number of iterations. Fitting data with very small alpha may cause precision problems.\n",
      "  ConvergenceWarning)\n",
      "/Users/danielk/anaconda3/lib/python3.7/site-packages/sklearn/linear_model/coordinate_descent.py:492: ConvergenceWarning: Objective did not converge. You might want to increase the number of iterations. Fitting data with very small alpha may cause precision problems.\n",
      "  ConvergenceWarning)\n"
     ]
    },
    {
     "data": {
      "image/png": "[encoded data removed]",
      "text/plain": [
       "<Figure size 432x288 with 1 Axes>"
      ]
     },
     "metadata": {
      "needs_background": "light"
     },
     "output_type": "display_data"
    },
    {
     "data": {
      "image/png": "[encoded data removed]",
      "text/plain": [
       "<Figure size 432x288 with 1 Axes>"
      ]
     },
     "metadata": {
      "needs_background": "light"
     },
     "output_type": "display_data"
    },
    {
     "data": {
      "image/png": "[encoded data removed]",
      "text/plain": [
       "<Figure size 432x288 with 1 Axes>"
      ]
     },
     "metadata": {
      "needs_background": "light"
     },
     "output_type": "display_data"
    }
   ],
   "source": [
    "plot_ising_error('100 samples', ising(100, 40))\n",
    "plot_ising_error('500 samples', ising(500, 40))\n",
    "plot_ising_error('1000 samples', ising(1000, 40))"
   ]
  },
  {
   "cell_type": "markdown",
   "metadata": {},
   "source": [
    "The best possible $E_{out}$ decreases drastically as a function of the number of samples for all methods. For ridge regression, the regularization strength should be sufficiently small (depending on the number of samples). For LASSO, there is an optimal value for the regularization strength, as the error does not behave monotonically. For the 500 samples it performs best among all methods, given that $\\lambda\\sim 10^{-5}$."
   ]
  },
  {
   "cell_type": "markdown",
   "metadata": {},
   "source": [
    "## [3] Perceptron - XOR \n",
    "* Show that a single perceptron does not have the capability to realise the XOR function.  \n",
    "* $\\star$ How can this be avoided using multiple perceptrons?   "
   ]
  },
  {
   "cell_type": "markdown",
   "metadata": {},
   "source": [
    "### Solution"
   ]
  },
  {
   "cell_type": "markdown",
   "metadata": {},
   "source": [
    "The XOR function is defined by $$\\begin{pmatrix}0&0\\\\0&1\\\\1&0\\\\1&1\\end{pmatrix}\\to \\begin{pmatrix}0\\\\1\\\\1\\\\0\\end{pmatrix}$$  \n",
    "Hence for a single perceptron with weights $w_i$ and bias $b$ we would have to satisfy  \n",
    "$$\n",
    "\\begin{align}\n",
    "0\\cdot w_1+0\\cdot w_2+b&\\leq 0\\\\\n",
    "0\\cdot w_1+1\\cdot w_2+b&> 0\\\\\n",
    "1\\cdot w_1+0\\cdot w_2+b&> 0\\\\\n",
    "1\\cdot w_1+1\\cdot w_2+b&\\leq 0\n",
    "\\end{align}\n",
    "$$  \n",
    "which is easily seen to be self-contradictory.\n",
    "\n",
    "NOTE: A perceptron cannot realize any linearly inseperable problem."
   ]
  },
  {
   "cell_type": "markdown",
   "metadata": {},
   "source": [
    "## [4] Shannon information content\n",
    "* For independent random variables ($P(X,Y) = P(X)P(Y)$) show that Shannon entropy is\n",
    "additive, i.e. $H(X,Y) = H(X) + H(Y)$.  \n",
    "* $\\star$ This is slightly off-topic but interesting nevertheless. Utilising information content (e.g. by\n",
    "making it explicit on your decision tree), think about a solution for the following problem. You\n",
    "are given 12 balls, all equal in weight except for one that is either heavier or lighter. You are\n",
    "given a two-pan balance to use. In each use of the balance you may put any number of 12 balls\n",
    "on the left pan, and the same number on the right pan. Your task is to design a strategy to\n",
    "determine which is the odd ball and whether it is heavier or lighter than the others in as few\n",
    "uses of the balance as possible."
   ]
  },
  {
   "cell_type": "markdown",
   "metadata": {},
   "source": [
    "### Solution"
   ]
  },
  {
   "cell_type": "markdown",
   "metadata": {},
   "source": [
    "$$\n",
    "\\begin{align}\n",
    "H(X,Y)&\\stackrel{\\text{def}}{=}E\\left[-\\log\\left(P(X,Y)\\right)\\right]\n",
    "=E\\left[-\\log\\left(P(X)P(Y)\\right)\\right]\\\\\n",
    "&=E\\left[-\\log\\left(P(X)\\right)\\right]+E\\left[-\\log\\left(P(Y)\\right)\\right]\n",
    "=H(X)+H(Y)\n",
    "\\end{align}\n",
    "$$"
   ]
  },
  {
   "cell_type": "markdown",
   "metadata": {},
   "source": [
    "The ball weighing problem has $24$ different outcomes ($12\\cdot2$, which ball & heavier vs lighter). So the total entropy in base $2$ is $H=\\log_2(24)\\approx 4.6$. We need to gain slightly more than $1.5$ bit per weighing and we can do it in three steps. This seems feasible and suggests working modulo $3$ in the first step.  \n",
    "  \n",
    "We split the balls into three sets of four $(A,B,C)$. We weigh set $A$ vs set $B$. There are three possible outcomes. $A>B$, $B>A$, $A=B$. This is a good first step because for any of the three results the information gain is $\\approx 1.6$ bits.  \n",
    "\n",
    "Note that if we had split into two sets, the information gain in the first step would only be $\\Delta H=1 \\text{bit}$\n",
    "  \n",
    "Let's explore option $A=B$: We know the odd ball is in set $C$ now. We label the balls in this set $1234$. From either set A or B take three reference balls R. If $123=R$ we know that $4$ is the odd ball and a third weighing against a reference ball gives us the heavier/lighter info. If $123>R$ we know that $4$ is normal and either one of $123$ is heavier. We weigh $1\\text{vs.}2$ to see which ball is the heavier one. $123<R$ works the same.  \n",
    "  \n",
    "If on the other hand we had determined $A>B$ in the beginning, we know that either there is a heavy ball in A or a light ball in B. Label $A=(1234)$, $B=(5678)$. We take a single reference ball $R$ from set $C$. We weigh $125\\text{vs.}36R$. If $125=36R$ we know that either $4$ is light or either one of $7,8$ is heavy. So we weigh $7\\text{vs.}8$ to determine the last piece of information needed.  \n",
    "  \n",
    "If $A>B$ and in the second step we get $125<36R$, the either $6$ is heavy or either one of $1,2$ is light. We weigh $1\\text{vs.}2$ to obtain the last piece of information.  \n",
    "$A<B$ works the same as $A>B$"
   ]
  }
 ],
 "metadata": {
  "kernelspec": {
   "display_name": "Python 3",
   "language": "python",
   "name": "python3"
  },
  "language_info": {
   "codemirror_mode": {
    "name": "ipython",
    "version": 3
   },
   "file_extension": ".py",
   "mimetype": "text/x-python",
   "name": "python",
   "nbconvert_exporter": "python",
   "pygments_lexer": "ipython3",
   "version": "3.6.8"
  }
 },
 "nbformat": 4,
 "nbformat_minor": 2
}
