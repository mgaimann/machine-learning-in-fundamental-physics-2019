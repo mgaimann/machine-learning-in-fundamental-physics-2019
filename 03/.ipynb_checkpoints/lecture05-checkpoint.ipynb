{
 "cells": [
  {
   "cell_type": "code",
   "execution_count": 1,
   "metadata": {},
   "outputs": [],
   "source": [
    "import numpy as np\n",
    "from sklearn import linear_model\n",
    "import matplotlib.pyplot as plt"
   ]
  },
  {
   "cell_type": "code",
   "execution_count": 82,
   "metadata": {},
   "outputs": [],
   "source": [
    "p=10\n",
    "n=100\n",
    "X=np.random.randn(n,p)\n",
    "w=np.array([ 3,  2,  7, -3, -8, -3, -6,  3, -3,  4])\n",
    "\n",
    "sigma_train=1.\n",
    "s = sigma_train*np.random.randn(n)\n",
    "\n",
    "y=np.array([np.sum(X[i]*w)+s[i] for i in range(n)])\n",
    "\n"
   ]
  },
  {
   "cell_type": "code",
   "execution_count": 83,
   "metadata": {},
   "outputs": [],
   "source": [
    "leastsq=linear_model.LinearRegression()\n",
    "ridge=linear_model.Ridge()\n",
    "\n",
    "lmbdas = np.logspace(-4, 5, 10)\n",
    "\n",
    "leastsq.fit(X, y)\n",
    "\n",
    "coefs_ridge = []\n",
    "\n",
    "for lmbda in lmbdas:\n",
    "    ridge.set_params(alpha=lmbda) # set regularisation parameter\n",
    "    ridge.fit(X, y)\n",
    "    coefs_ridge.append(ridge.coef_)"
   ]
  },
  {
   "cell_type": "code",
   "execution_count": 84,
   "metadata": {},
   "outputs": [
    {
     "name": "stdout",
     "output_type": "stream",
     "text": [
      "[ 2.7877027   1.83602268  6.86365647 -3.11309338 -7.81463473 -3.07430391\n",
      " -6.18293753  2.98639837 -2.94810271  4.04849102]\n",
      "[ 0.00087766  0.00302546  0.00726666 -0.00262038 -0.00757094 -0.00457187\n",
      " -0.00425713  0.00291876 -0.00220598  0.00301818]\n"
     ]
    }
   ],
   "source": [
    "print(leastsq.coef_)\n",
    "print(ridge.coef_)"
   ]
  },
  {
   "cell_type": "code",
   "execution_count": 90,
   "metadata": {},
   "outputs": [
    {
     "data": {
      "text/plain": [
       "<matplotlib.collections.PathCollection at 0x11dbc80f0>"
      ]
     },
     "execution_count": 90,
     "metadata": {},
     "output_type": "execute_result"
    },
    {
     "data": {
      "image/png": "[encoded data removed]",
      "text/plain": [
       "<Figure size 432x288 with 1 Axes>"
      ]
     },
     "metadata": {
      "needs_background": "light"
     },
     "output_type": "display_data"
    }
   ],
   "source": [
    "plt.scatter(np.arange(p),leastsq.coef_)\n",
    "plt.scatter(np.arange(p),coefs_ridge[6])"
   ]
  },
  {
   "cell_type": "code",
   "execution_count": 49,
   "metadata": {},
   "outputs": [],
   "source": [
    "u, s, vh = np.linalg.svd(X, full_matrices=True)"
   ]
  },
  {
   "cell_type": "code",
   "execution_count": 52,
   "metadata": {},
   "outputs": [
    {
     "data": {
      "text/plain": [
       "(100, 100)"
      ]
     },
     "execution_count": 52,
     "metadata": {},
     "output_type": "execute_result"
    }
   ],
   "source": [
    "np.shape(u)"
   ]
  },
  {
   "cell_type": "code",
   "execution_count": 53,
   "metadata": {},
   "outputs": [
    {
     "data": {
      "text/plain": [
       "(10,)"
      ]
     },
     "execution_count": 53,
     "metadata": {},
     "output_type": "execute_result"
    }
   ],
   "source": [
    "np.shape(s)"
   ]
  },
  {
   "cell_type": "code",
   "execution_count": 54,
   "metadata": {},
   "outputs": [
    {
     "data": {
      "text/plain": [
       "(10, 10)"
      ]
     },
     "execution_count": 54,
     "metadata": {},
     "output_type": "execute_result"
    }
   ],
   "source": [
    "np.shape(vh)"
   ]
  },
  {
   "cell_type": "code",
   "execution_count": 63,
   "metadata": {},
   "outputs": [],
   "source": [
    "smat = np.zeros((n, p))\n",
    "smat[:p,:p]=np.diag(s)"
   ]
  },
  {
   "cell_type": "code",
   "execution_count": 66,
   "metadata": {},
   "outputs": [],
   "source": [
    "Xsvd=np.matmul(np.matmul(u,smat),vh)"
   ]
  },
  {
   "cell_type": "code",
   "execution_count": 69,
   "metadata": {},
   "outputs": [
    {
     "data": {
      "text/plain": [
       "4.218847493575595e-15"
      ]
     },
     "execution_count": 69,
     "metadata": {},
     "output_type": "execute_result"
    }
   ],
   "source": [
    "np.max(np.abs(Xsvd-X))"
   ]
  },
  {
   "cell_type": "code",
   "execution_count": 91,
   "metadata": {},
   "outputs": [
    {
     "name": "stdout",
     "output_type": "stream",
     "text": [
      "[[ 1.00000000e+00 -4.62777323e-18  1.25017533e-16 ... -3.33848097e-17\n",
      "  -1.46544579e-17 -2.45883639e-17]\n",
      " [-4.62777323e-18  1.00000000e+00 -8.78836098e-17 ... -1.01163629e-16\n",
      "   1.07363893e-17 -5.82292935e-17]\n",
      " [ 1.25017533e-16 -8.78836098e-17  1.00000000e+00 ... -1.33279760e-16\n",
      "   2.17805759e-17 -3.54578053e-17]\n",
      " ...\n",
      " [-3.33848097e-17 -1.01163629e-16 -1.33279760e-16 ...  1.00000000e+00\n",
      "  -1.18918086e-17  8.67086297e-17]\n",
      " [-1.46544579e-17  1.07363893e-17  2.17805759e-17 ... -1.18918086e-17\n",
      "   1.00000000e+00  1.46187445e-16]\n",
      " [-2.45883639e-17 -5.82292935e-17 -3.54578053e-17 ...  8.67086297e-17\n",
      "   1.46187445e-16  1.00000000e+00]]\n"
     ]
    },
    {
     "data": {
      "text/plain": [
       "<matplotlib.image.AxesImage at 0x11dc2bf28>"
      ]
     },
     "execution_count": 91,
     "metadata": {},
     "output_type": "execute_result"
    },
    {
     "data": {
      "image/png": "[encoded data removed]",
      "text/plain": [
       "<Figure size 432x288 with 1 Axes>"
      ]
     },
     "metadata": {
      "needs_background": "light"
     },
     "output_type": "display_data"
    }
   ],
   "source": [
    "print(np.matmul(u,np.transpose(u)))\n",
    "plt.imshow(np.matmul(u,np.transpose(u)))"
   ]
  },
  {
   "cell_type": "code",
   "execution_count": 81,
   "metadata": {},
   "outputs": [
    {
     "name": "stdout",
     "output_type": "stream",
     "text": [
      "[[ 1.91823059e-01 -1.66767383e-04 -1.44141587e-02 ...  4.69238436e-02\n",
      "   3.22718004e-02 -1.84821449e-02]\n",
      " [-1.66767383e-04  5.62059870e-02  1.38258350e-02 ... -3.42130686e-03\n",
      "  -2.16429749e-04 -4.32333974e-02]\n",
      " [-1.44141587e-02  1.38258350e-02  8.81385356e-02 ... -5.91771654e-02\n",
      "  -2.83295613e-03 -4.56381638e-02]\n",
      " ...\n",
      " [ 4.69238436e-02 -3.42130686e-03 -5.91771654e-02 ...  9.52519661e-02\n",
      "  -1.35214537e-02  5.67831239e-02]\n",
      " [ 3.22718004e-02 -2.16429749e-04 -2.83295613e-03 ... -1.35214537e-02\n",
      "   9.85569271e-02 -7.69322049e-02]\n",
      " [-1.84821449e-02 -4.32333974e-02 -4.56381638e-02 ...  5.67831239e-02\n",
      "  -7.69322049e-02  2.09003590e-01]]\n"
     ]
    },
    {
     "data": {
      "text/plain": [
       "<matplotlib.image.AxesImage at 0x11d92c7b8>"
      ]
     },
     "execution_count": 81,
     "metadata": {},
     "output_type": "execute_result"
    },
    {
     "data": {
      "image/png": "[encoded data removed]",
      "text/plain": [
       "<Figure size 432x288 with 1 Axes>"
      ]
     },
     "metadata": {
      "needs_background": "light"
     },
     "output_type": "display_data"
    }
   ],
   "source": [
    "XTXinv=np.linalg.inv(np.matmul(np.transpose(X),X))\n",
    "print(np.matmul(np.matmul(X,XTXinv),np.transpose(X)))\n",
    "plt.imshow(np.matmul(np.matmul(X,XTXinv),np.transpose(X)))"
   ]
  },
  {
   "cell_type": "code",
   "execution_count": null,
   "metadata": {},
   "outputs": [],
   "source": []
  }
 ],
 "metadata": {
  "kernelspec": {
   "display_name": "Python 3",
   "language": "python",
   "name": "python3"
  },
  "language_info": {
   "codemirror_mode": {
    "name": "ipython",
    "version": 3
   },
   "file_extension": ".py",
   "mimetype": "text/x-python",
   "name": "python",
   "nbconvert_exporter": "python",
   "pygments_lexer": "ipython3",
   "version": "3.6.8"
  }
 },
 "nbformat": 4,
 "nbformat_minor": 2
}
