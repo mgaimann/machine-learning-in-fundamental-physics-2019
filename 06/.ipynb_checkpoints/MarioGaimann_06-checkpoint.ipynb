{
 "cells": [
  {
   "cell_type": "code",
   "execution_count": 2,
   "metadata": {},
   "outputs": [
    {
     "name": "stderr",
     "output_type": "stream",
     "text": [
      "Using TensorFlow backend.\n"
     ]
    }
   ],
   "source": [
    "import numpy as np\n",
    "import matplotlib.pylab as plt\n",
    "import numpy.random as rd\n",
    "\n",
    "from sklearn.datasets import fetch_openml # MNIST data\n",
    "from sklearn.model_selection import train_test_split\n",
    "\n",
    "#os.environ[\"CUDA_VISIBLE_DEVICES\"] = '0'\n",
    "#sess = tf.Session(config=tf.ConfigProto(device_count={'GPU': 0}))\n",
    "from keras.models import Sequential\n",
    "from keras.models import Model\n",
    "\n",
    "from keras.layers import Dense\n",
    "from keras.layers import Flatten\n",
    "from keras.layers import Conv2D\n",
    "from keras.layers import MaxPooling2D\n",
    "from keras.layers import UpSampling2D\n",
    "from keras.layers import Input\n",
    "from keras.layers import concatenate\n",
    "from keras.layers import Cropping2D"
   ]
  },
  {
   "cell_type": "markdown",
   "metadata": {},
   "source": [
    "## A1 - U-Net"
   ]
  },
  {
   "cell_type": "code",
   "execution_count": 53,
   "metadata": {},
   "outputs": [
    {
     "name": "stdout",
     "output_type": "stream",
     "text": [
      "__________________________________________________________________________________________________\n",
      "Layer (type)                    Output Shape         Param #     Connected to                     \n",
      "==================================================================================================\n",
      "input_6 (InputLayer)            (None, 572, 572, 1)  0                                            \n",
      "__________________________________________________________________________________________________\n",
      "conv2d_482 (Conv2D)             (None, 570, 570, 64) 640         input_6[0][0]                    \n",
      "__________________________________________________________________________________________________\n",
      "conv2d_483 (Conv2D)             (None, 568, 568, 64) 36928       conv2d_482[0][0]                 \n",
      "__________________________________________________________________________________________________\n",
      "max_pooling2d_139 (MaxPooling2D (None, 284, 284, 64) 0           conv2d_483[0][0]                 \n",
      "__________________________________________________________________________________________________\n",
      "conv2d_484 (Conv2D)             (None, 282, 282, 128 73856       max_pooling2d_139[0][0]          \n",
      "__________________________________________________________________________________________________\n",
      "conv2d_485 (Conv2D)             (None, 280, 280, 128 147584      conv2d_484[0][0]                 \n",
      "__________________________________________________________________________________________________\n",
      "max_pooling2d_140 (MaxPooling2D (None, 140, 140, 128 0           conv2d_485[0][0]                 \n",
      "__________________________________________________________________________________________________\n",
      "conv2d_486 (Conv2D)             (None, 138, 138, 256 295168      max_pooling2d_140[0][0]          \n",
      "__________________________________________________________________________________________________\n",
      "conv2d_487 (Conv2D)             (None, 136, 136, 256 590080      conv2d_486[0][0]                 \n",
      "__________________________________________________________________________________________________\n",
      "max_pooling2d_141 (MaxPooling2D (None, 68, 68, 256)  0           conv2d_487[0][0]                 \n",
      "__________________________________________________________________________________________________\n",
      "conv2d_488 (Conv2D)             (None, 66, 66, 512)  1180160     max_pooling2d_141[0][0]          \n",
      "__________________________________________________________________________________________________\n",
      "conv2d_489 (Conv2D)             (None, 64, 64, 512)  2359808     conv2d_488[0][0]                 \n",
      "__________________________________________________________________________________________________\n",
      "max_pooling2d_142 (MaxPooling2D (None, 32, 32, 512)  0           conv2d_489[0][0]                 \n",
      "__________________________________________________________________________________________________\n",
      "conv2d_490 (Conv2D)             (None, 30, 30, 1024) 4719616     max_pooling2d_142[0][0]          \n",
      "__________________________________________________________________________________________________\n",
      "conv2d_491 (Conv2D)             (None, 28, 28, 1024) 9438208     conv2d_490[0][0]                 \n",
      "__________________________________________________________________________________________________\n",
      "cropping2d_47 (Cropping2D)      (None, 56, 56, 512)  0           conv2d_489[0][0]                 \n",
      "__________________________________________________________________________________________________\n",
      "up_sampling2d_82 (UpSampling2D) (None, 56, 56, 1024) 0           conv2d_491[0][0]                 \n",
      "__________________________________________________________________________________________________\n",
      "concatenate_48 (Concatenate)    (None, 56, 56, 1536) 0           cropping2d_47[0][0]              \n",
      "                                                                 up_sampling2d_82[0][0]           \n",
      "__________________________________________________________________________________________________\n",
      "conv2d_492 (Conv2D)             (None, 54, 54, 512)  7078400     concatenate_48[0][0]             \n",
      "__________________________________________________________________________________________________\n",
      "conv2d_493 (Conv2D)             (None, 52, 52, 512)  2359808     conv2d_492[0][0]                 \n",
      "__________________________________________________________________________________________________\n",
      "cropping2d_48 (Cropping2D)      (None, 104, 104, 256 0           conv2d_487[0][0]                 \n",
      "__________________________________________________________________________________________________\n",
      "up_sampling2d_83 (UpSampling2D) (None, 104, 104, 512 0           conv2d_493[0][0]                 \n",
      "__________________________________________________________________________________________________\n",
      "concatenate_49 (Concatenate)    (None, 104, 104, 768 0           cropping2d_48[0][0]              \n",
      "                                                                 up_sampling2d_83[0][0]           \n",
      "__________________________________________________________________________________________________\n",
      "conv2d_494 (Conv2D)             (None, 102, 102, 256 1769728     concatenate_49[0][0]             \n",
      "__________________________________________________________________________________________________\n",
      "conv2d_495 (Conv2D)             (None, 100, 100, 256 590080      conv2d_494[0][0]                 \n",
      "__________________________________________________________________________________________________\n",
      "cropping2d_49 (Cropping2D)      (None, 200, 200, 128 0           conv2d_485[0][0]                 \n",
      "__________________________________________________________________________________________________\n",
      "up_sampling2d_84 (UpSampling2D) (None, 200, 200, 256 0           conv2d_495[0][0]                 \n",
      "__________________________________________________________________________________________________\n",
      "concatenate_50 (Concatenate)    (None, 200, 200, 384 0           cropping2d_49[0][0]              \n",
      "                                                                 up_sampling2d_84[0][0]           \n",
      "__________________________________________________________________________________________________\n",
      "conv2d_496 (Conv2D)             (None, 198, 198, 128 442496      concatenate_50[0][0]             \n",
      "__________________________________________________________________________________________________\n",
      "conv2d_497 (Conv2D)             (None, 196, 196, 128 147584      conv2d_496[0][0]                 \n",
      "__________________________________________________________________________________________________\n",
      "cropping2d_50 (Cropping2D)      (None, 392, 392, 64) 0           conv2d_483[0][0]                 \n",
      "__________________________________________________________________________________________________\n",
      "up_sampling2d_85 (UpSampling2D) (None, 392, 392, 128 0           conv2d_497[0][0]                 \n",
      "__________________________________________________________________________________________________\n",
      "concatenate_51 (Concatenate)    (None, 392, 392, 192 0           cropping2d_50[0][0]              \n",
      "                                                                 up_sampling2d_85[0][0]           \n",
      "__________________________________________________________________________________________________\n",
      "conv2d_498 (Conv2D)             (None, 390, 390, 64) 110656      concatenate_51[0][0]             \n",
      "__________________________________________________________________________________________________\n",
      "conv2d_499 (Conv2D)             (None, 388, 388, 64) 36928       conv2d_498[0][0]                 \n",
      "__________________________________________________________________________________________________\n",
      "conv2d_500 (Conv2D)             (None, 388, 388, 2)  130         conv2d_499[0][0]                 \n",
      "==================================================================================================\n",
      "Total params: 31,377,858\n",
      "Trainable params: 31,377,858\n",
      "Non-trainable params: 0\n",
      "__________________________________________________________________________________________________\n"
     ]
    }
   ],
   "source": [
    "# padding \"valid\" -> no padding\n",
    "\n",
    "\n",
    "# INPUT\n",
    "visible = Input(shape=(572,572,1))\n",
    "\n",
    "\n",
    "# DOWNCONVOLUTION\n",
    "conv1 = (Conv2D(filters = 64, input_shape=(572,572,1), kernel_size=3, padding=\"valid\", strides=(1,1)))(inputdata)\n",
    "conv2 =(Conv2D(filters = 64, kernel_size=3, padding=\"valid\", strides=(1,1), activation='relu'))(conv1)\n",
    "pool1 = (MaxPooling2D(pool_size=(2,2)))(conv2)\n",
    "\n",
    "conv3 = (Conv2D(filters = 128, kernel_size=3, padding=\"valid\", strides=(1,1), activation='relu'))(pool1)\n",
    "conv4 = (Conv2D(filters = 128, kernel_size=3, padding=\"valid\", strides=(1,1), activation='relu'))(conv3)\n",
    "pool2 = (MaxPooling2D(pool_size=(2,2)))(conv4)\n",
    "\n",
    "conv5 = (Conv2D(filters = 256, kernel_size=3, padding=\"valid\", strides=(1,1), activation='relu'))(pool2)\n",
    "conv6 = (Conv2D(filters = 256, kernel_size=3, padding=\"valid\", strides=(1,1), activation='relu'))(conv5)\n",
    "pool3 = (MaxPooling2D(pool_size=(2,2)))(conv6)\n",
    "\n",
    "conv7 = (Conv2D(filters = 512, kernel_size=3, padding=\"valid\", strides=(1,1), activation='relu'))(pool3)\n",
    "conv8 = (Conv2D(filters = 512, kernel_size=3, padding=\"valid\", strides=(1,1), activation='relu'))(conv7)\n",
    "pool4 = (MaxPooling2D(pool_size=(2,2)))(conv8)\n",
    "\n",
    "conv9 = (Conv2D(filters = 1024, kernel_size=3, padding=\"valid\", strides=(1,1), activation='relu'))(pool4)\n",
    "conv10 = (Conv2D(filters = 1024, kernel_size=3, padding=\"valid\", strides=(1,1), activation='relu'))(conv9)\n",
    "                 \n",
    "    \n",
    "# UPCONVOLUTION\n",
    "upsamp1 = (UpSampling2D(size = 2))(conv10)\n",
    "conv8_cr = (Cropping2D(cropping= (4,4) ))(conv8) # 64-56 = 8, symm. crop by 4 \n",
    "concat1 = concatenate([conv8_cr, upsamp1])\n",
    "conv11 = (Conv2D(filters = 512, kernel_size=3, padding=\"valid\", strides=(1,1), activation='relu'))(concat1)\n",
    "conv12 = (Conv2D(filters = 512, kernel_size=3, padding=\"valid\", strides=(1,1), activation='relu'))(conv11)\n",
    "\n",
    "upsamp2 = (UpSampling2D(size = 2))(conv12)\n",
    "conv6_cr = (Cropping2D(cropping= (16,16) ))(conv6) # 136-104 = 32, symm. crop by 16 \n",
    "concat2 = concatenate([conv6_cr, upsamp2])\n",
    "conv13 = (Conv2D(filters = 256, kernel_size=3, padding=\"valid\", strides=(1,1), activation='relu'))(concat2)\n",
    "conv14 = (Conv2D(filters = 256, kernel_size=3, padding=\"valid\", strides=(1,1), activation='relu'))(conv13)\n",
    "\n",
    "upsamp3 = (UpSampling2D(size = 2))(conv14)\n",
    "conv4_cr = (Cropping2D(cropping= (40,40) ))(conv4) # 280-200 = 80, symm. crop by 40 \n",
    "concat3 = concatenate([conv4_cr, upsamp3])\n",
    "conv15 = (Conv2D(filters = 128, kernel_size=3, padding=\"valid\", strides=(1,1), activation='relu'))(concat3)\n",
    "conv16 = (Conv2D(filters = 128, kernel_size=3, padding=\"valid\", strides=(1,1), activation='relu'))(conv15)\n",
    "    \n",
    "upsamp4 =(UpSampling2D(size = 2))(conv16)\n",
    "conv2_cr = (Cropping2D(cropping= (88,88) ))(conv2) # 568-392 = 176, symm. crop by 88\n",
    "concat4 = concatenate([conv2_cr, upsamp4])\n",
    "conv17 = (Conv2D(filters = 64, kernel_size=3, padding=\"valid\", strides=(1,1)))(concat4)\n",
    "conv18 = (Conv2D(filters = 64, kernel_size=3, padding=\"valid\", strides=(1,1), activation='relu'))(conv17)\n",
    "\n",
    "output = (Conv2D(filters = 2, kernel_size=1, padding=\"valid\", strides=(1,1), activation='relu'))(conv18)\n",
    "\n",
    "\n",
    "# COMPILE\n",
    "model = Model(inputs=inputdata, outputs = output)\n",
    "model.summary()"
   ]
  },
  {
   "cell_type": "markdown",
   "metadata": {},
   "source": [
    "## A2 - AlexNet "
   ]
  },
  {
   "cell_type": "code",
   "execution_count": 41,
   "metadata": {},
   "outputs": [
    {
     "name": "stdout",
     "output_type": "stream",
     "text": [
      "_________________________________________________________________\n",
      "Layer (type)                 Output Shape              Param #   \n",
      "=================================================================\n",
      "conv2d_96 (Conv2D)           (None, 55, 55, 96)        34944     \n",
      "_________________________________________________________________\n",
      "max_pooling2d_58 (MaxPooling (None, 27, 27, 96)        0         \n",
      "_________________________________________________________________\n",
      "conv2d_97 (Conv2D)           (None, 27, 27, 256)       614656    \n",
      "_________________________________________________________________\n",
      "max_pooling2d_59 (MaxPooling (None, 13, 13, 256)       0         \n",
      "_________________________________________________________________\n",
      "conv2d_98 (Conv2D)           (None, 13, 13, 384)       885120    \n",
      "_________________________________________________________________\n",
      "conv2d_99 (Conv2D)           (None, 13, 13, 384)       1327488   \n",
      "_________________________________________________________________\n",
      "conv2d_100 (Conv2D)          (None, 13, 13, 256)       884992    \n",
      "_________________________________________________________________\n",
      "max_pooling2d_60 (MaxPooling (None, 6, 6, 256)         0         \n",
      "_________________________________________________________________\n",
      "flatten_15 (Flatten)         (None, 9216)              0         \n",
      "_________________________________________________________________\n",
      "dense_60 (Dense)             (None, 4096)              37752832  \n",
      "_________________________________________________________________\n",
      "dense_61 (Dense)             (None, 4069)              16670693  \n",
      "_________________________________________________________________\n",
      "dense_62 (Dense)             (None, 1000)              4070000   \n",
      "=================================================================\n",
      "Total params: 62,240,725\n",
      "Trainable params: 62,240,725\n",
      "Non-trainable params: 0\n",
      "_________________________________________________________________\n"
     ]
    }
   ],
   "source": [
    "model = Sequential()\n",
    "\n",
    "# l1\n",
    "model.add(Conv2D(filters = 96, kernel_size=11, input_shape = (227, 227, 3), padding=\"valid\", strides=(4,4), activation='relu', data_format=\"channels_last\"))\n",
    "model.add(MaxPooling2D(pool_size = (3,3), strides = (2,2), padding = \"valid\"))\n",
    "\n",
    "# l2\n",
    "model.add(Conv2D(filters = 256, kernel_size=5, padding=\"same\", strides=(1,1), activation='relu'))\n",
    "model.add(MaxPooling2D(pool_size = (3,3), strides = (2,2), padding = \"valid\"))\n",
    "\n",
    "# l3\n",
    "model.add(Conv2D(filters = 384, kernel_size=3, padding=\"same\", strides=(1,1), activation='relu'))\n",
    "\n",
    "# l4\n",
    "model.add(Conv2D(filters = 384, kernel_size=3, padding=\"same\", strides=(1,1), activation='relu'))\n",
    "\n",
    "# l5\n",
    "model.add(Conv2D(filters = 256, kernel_size=3, padding=\"same\", strides=(1,1), activation='relu'))\n",
    "model.add(MaxPooling2D(pool_size = (3,3), strides = (2,2), padding = \"valid\"))\n",
    "\n",
    "# dense\n",
    "model.add(Flatten())\n",
    "model.add(Dense(4096, activation=\"relu\"))\n",
    "model.add(Dense(4069, activation=\"relu\"))\n",
    "model.add(Dense(1000, activation=\"softmax\"))\n",
    "\n",
    "# compile\n",
    "model.compile(loss=\"categorical_crossentropy\", optimizer=\"adam\", metrics=[\"accuracy\"])\n",
    "model.summary()"
   ]
  },
  {
   "cell_type": "markdown",
   "metadata": {},
   "source": [
    "## A3 - PCA"
   ]
  },
  {
   "cell_type": "markdown",
   "metadata": {},
   "source": [
    "$d$ is the first principal component, the eigenvector corresponding to the largest eigenvalue of $X^T X$."
   ]
  },
  {
   "cell_type": "code",
   "execution_count": 21,
   "metadata": {},
   "outputs": [
    {
     "name": "stdout",
     "output_type": "stream",
     "text": [
      "Explained by 1st component: 97.05 %\n",
      "Explained by 2nd component: 2.95 %\n"
     ]
    },
    {
     "data": {
      "image/png": "[encoded data removed]",
      "text/plain": [
       "<Figure size 432x288 with 1 Axes>"
      ]
     },
     "metadata": {
      "needs_background": "light"
     },
     "output_type": "display_data"
    }
   ],
   "source": [
    "from sklearn.decomposition import PCA \n",
    "\n",
    "X = []\n",
    "for n in range(100):\n",
    "    x = np.random.normal(loc = 0, scale = 5)\n",
    "    y = np.random.normal(loc = 0, scale = 1)\n",
    "    X.append([x,y])\n",
    "    \n",
    "plt.scatter([el[0] for el in X], [el[1] for el in X])\n",
    "\n",
    "pca = PCA(n_components=2)\n",
    "pca.fit(X)  \n",
    "PCA(copy=True, iterated_power='auto', n_components=2, random_state=None,\n",
    "  svd_solver='auto', tol=0.0, whiten=False)\n",
    "\n",
    "print(\"Explained by 1st component: %g %%\" % round(100*pca.explained_variance_ratio_[0],2))  \n",
    "print(\"Explained by 2nd component: %g %%\" % round(100*pca.explained_variance_ratio_[1],2))  \n",
    "\n",
    "#print(pca.singular_values_) "
   ]
  },
  {
   "cell_type": "markdown",
   "metadata": {},
   "source": [
    "For a change in variance by a factor of 5, it can be observed that the first component of a PCA explains about 95% of the overall variance and is therefore the relevant \"feature\" in this data set."
   ]
  },
  {
   "cell_type": "code",
   "execution_count": null,
   "metadata": {},
   "outputs": [],
   "source": []
  }
 ],
 "metadata": {
  "kernelspec": {
   "display_name": "Python 3",
   "language": "python",
   "name": "python3"
  },
  "language_info": {
   "codemirror_mode": {
    "name": "ipython",
    "version": 3
   },
   "file_extension": ".py",
   "mimetype": "text/x-python",
   "name": "python",
   "nbconvert_exporter": "python",
   "pygments_lexer": "ipython3",
   "version": "3.7.3"
  }
 },
 "nbformat": 4,
 "nbformat_minor": 2
}
