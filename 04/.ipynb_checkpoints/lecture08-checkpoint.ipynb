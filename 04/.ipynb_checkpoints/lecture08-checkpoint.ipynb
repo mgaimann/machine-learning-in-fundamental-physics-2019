{
 "cells": [
  {
   "cell_type": "code",
   "execution_count": 24,
   "metadata": {},
   "outputs": [],
   "source": [
    "from __future__ import print_function\n",
    "import tensorflow.keras\n",
    "from tensorflow.keras.datasets import cifar10\n",
    "from tensorflow.keras.preprocessing.image import ImageDataGenerator\n",
    "from tensorflow.keras.models import Sequential\n",
    "from tensorflow.keras.layers import Dense, Dropout, Activation, Flatten\n",
    "from tensorflow.keras.layers import Conv2D, MaxPooling2D\n",
    "from tensorflow.python.keras.optimizers import RMSprop\n",
    "\n",
    "import os\n",
    "\n",
    "import numpy as np\n",
    "import matplotlib.pyplot as plt"
   ]
  },
  {
   "cell_type": "code",
   "execution_count": 3,
   "metadata": {},
   "outputs": [],
   "source": [
    "batch_size = 32\n",
    "num_classes = 10\n",
    "epochs = 100\n",
    "data_augmentation = True\n",
    "num_predictions = 20\n",
    "save_dir = os.path.join(os.getcwd(), 'saved_models')\n",
    "model_name = 'keras_cifar10_trained_model.h5'"
   ]
  },
  {
   "cell_type": "code",
   "execution_count": 7,
   "metadata": {},
   "outputs": [
    {
     "name": "stdout",
     "output_type": "stream",
     "text": [
      "x_train shape: (50000, 32, 32, 3)\n",
      "50000 train samples\n",
      "10000 test samples\n"
     ]
    }
   ],
   "source": [
    "(x_train, y_train), (x_test, y_test) = cifar10.load_data()\n",
    "print('x_train shape:', x_train.shape)\n",
    "print(x_train.shape[0], 'train samples')\n",
    "print(x_test.shape[0], 'test samples')\n",
    "\n",
    "# Convert class vectors to binary class matrices.\n",
    "y_train = tensorflow.keras.utils.to_categorical(y_train, num_classes)\n",
    "y_test = tensorflow.keras.utils.to_categorical(y_test, num_classes)"
   ]
  },
  {
   "cell_type": "code",
   "execution_count": 20,
   "metadata": {},
   "outputs": [
    {
     "data": {
      "text/plain": [
       "array([0., 0., 0., 0., 0., 1., 0., 0., 0., 0.], dtype=float32)"
      ]
     },
     "execution_count": 20,
     "metadata": {},
     "output_type": "execute_result"
    },
    {
     "data": {
      "image/png": "[encoded data removed]",
      "text/plain": [
       "<Figure size 432x288 with 1 Axes>"
      ]
     },
     "metadata": {
      "needs_background": "light"
     },
     "output_type": "display_data"
    }
   ],
   "source": [
    "plt.imshow(x_train[40],interpolation='nearest')\n",
    "y_train[40]"
   ]
  },
  {
   "cell_type": "code",
   "execution_count": 25,
   "metadata": {},
   "outputs": [],
   "source": [
    "model = Sequential()\n",
    "model.add(Conv2D(32, (3, 3), padding='same',\n",
    "                 input_shape=x_train.shape[1:]))\n",
    "model.add(Activation('relu'))\n",
    "model.add(Conv2D(32, (3, 3)))\n",
    "model.add(Activation('relu'))\n",
    "model.add(MaxPooling2D(pool_size=(2, 2)))\n",
    "model.add(Dropout(0.25))\n",
    "\n",
    "model.add(Conv2D(64, (3, 3), padding='same'))\n",
    "model.add(Activation('relu'))\n",
    "model.add(Conv2D(64, (3, 3)))\n",
    "model.add(Activation('relu'))\n",
    "model.add(MaxPooling2D(pool_size=(2, 2)))\n",
    "model.add(Dropout(0.25))\n",
    "\n",
    "model.add(Flatten())\n",
    "model.add(Dense(512))\n",
    "model.add(Activation('relu'))\n",
    "model.add(Dropout(0.5))\n",
    "model.add(Dense(num_classes))\n",
    "model.add(Activation('softmax'))\n",
    "\n",
    "# initiate RMSprop optimizer\n",
    "opt = RMSprop(lr=0.0001, decay=1e-6)\n",
    "\n",
    "# Let's train the model using RMSprop\n",
    "model.compile(loss='categorical_crossentropy',\n",
    "              optimizer=opt,\n",
    "              metrics=['accuracy'])\n",
    "\n",
    "x_train = x_train.astype('float32')\n",
    "x_test = x_test.astype('float32')\n",
    "x_train /= 255\n",
    "x_test /= 255"
   ]
  },
  {
   "cell_type": "code",
   "execution_count": 26,
   "metadata": {},
   "outputs": [
    {
     "name": "stdout",
     "output_type": "stream",
     "text": [
      "Train on 50000 samples, validate on 10000 samples\n",
      "Epoch 1/100\n",
      "50000/50000 [==============================] - 24s 472us/step - loss: 1.8053 - acc: 0.3349 - val_loss: 1.5317 - val_acc: 0.4398\n",
      "Epoch 2/100\n",
      "50000/50000 [==============================] - 18s 355us/step - loss: 1.4882 - acc: 0.4608 - val_loss: 1.3597 - val_acc: 0.5193\n",
      "Epoch 3/100\n",
      "50000/50000 [==============================] - 18s 359us/step - loss: 1.3490 - acc: 0.5165 - val_loss: 1.2581 - val_acc: 0.5492\n",
      "Epoch 4/100\n",
      "50000/50000 [==============================] - 18s 358us/step - loss: 1.2536 - acc: 0.5568 - val_loss: 1.1719 - val_acc: 0.5853\n",
      "Epoch 5/100\n",
      "50000/50000 [==============================] - 18s 358us/step - loss: 1.1780 - acc: 0.5845 - val_loss: 1.1143 - val_acc: 0.6141\n",
      "Epoch 6/100\n",
      "50000/50000 [==============================] - 18s 359us/step - loss: 1.1048 - acc: 0.6128 - val_loss: 1.0361 - val_acc: 0.6328\n",
      "Epoch 7/100\n",
      "50000/50000 [==============================] - 18s 358us/step - loss: 1.0468 - acc: 0.6335 - val_loss: 0.9990 - val_acc: 0.6530\n",
      "Epoch 8/100\n",
      "50000/50000 [==============================] - 18s 360us/step - loss: 0.9990 - acc: 0.6528 - val_loss: 0.9306 - val_acc: 0.6721\n",
      "Epoch 9/100\n",
      "50000/50000 [==============================] - 18s 359us/step - loss: 0.9551 - acc: 0.6671 - val_loss: 0.8782 - val_acc: 0.6926\n",
      "Epoch 10/100\n",
      "50000/50000 [==============================] - 18s 357us/step - loss: 0.9184 - acc: 0.6792 - val_loss: 0.8995 - val_acc: 0.6873\n",
      "Epoch 11/100\n",
      "50000/50000 [==============================] - 18s 360us/step - loss: 0.8853 - acc: 0.6915 - val_loss: 0.8658 - val_acc: 0.7005\n",
      "Epoch 12/100\n",
      "50000/50000 [==============================] - 18s 358us/step - loss: 0.8587 - acc: 0.7029 - val_loss: 0.8095 - val_acc: 0.7163\n",
      "Epoch 13/100\n",
      "50000/50000 [==============================] - 18s 357us/step - loss: 0.8378 - acc: 0.7098 - val_loss: 0.7850 - val_acc: 0.7254\n",
      "Epoch 14/100\n",
      "50000/50000 [==============================] - 18s 359us/step - loss: 0.8180 - acc: 0.7161 - val_loss: 0.7620 - val_acc: 0.7364\n",
      "Epoch 15/100\n",
      "50000/50000 [==============================] - 18s 361us/step - loss: 0.7989 - acc: 0.7234 - val_loss: 0.8303 - val_acc: 0.7201\n",
      "Epoch 16/100\n",
      "50000/50000 [==============================] - 18s 357us/step - loss: 0.7855 - acc: 0.7288 - val_loss: 0.7471 - val_acc: 0.7416\n",
      "Epoch 17/100\n",
      "50000/50000 [==============================] - 18s 359us/step - loss: 0.7686 - acc: 0.7353 - val_loss: 0.7599 - val_acc: 0.7359\n",
      "Epoch 18/100\n",
      "50000/50000 [==============================] - 18s 356us/step - loss: 0.7603 - acc: 0.7374 - val_loss: 0.7428 - val_acc: 0.7418\n",
      "Epoch 19/100\n",
      "50000/50000 [==============================] - 18s 358us/step - loss: 0.7461 - acc: 0.7451 - val_loss: 0.7114 - val_acc: 0.7557\n",
      "Epoch 20/100\n",
      "50000/50000 [==============================] - 18s 358us/step - loss: 0.7407 - acc: 0.7474 - val_loss: 0.7161 - val_acc: 0.7507\n",
      "Epoch 21/100\n",
      "50000/50000 [==============================] - 18s 359us/step - loss: 0.7318 - acc: 0.7506 - val_loss: 0.7176 - val_acc: 0.7501\n",
      "Epoch 22/100\n",
      "50000/50000 [==============================] - 18s 359us/step - loss: 0.7227 - acc: 0.7509 - val_loss: 0.7054 - val_acc: 0.7575\n",
      "Epoch 23/100\n",
      "50000/50000 [==============================] - 18s 359us/step - loss: 0.7188 - acc: 0.7565 - val_loss: 0.7161 - val_acc: 0.7597\n",
      "Epoch 24/100\n",
      "50000/50000 [==============================] - 18s 357us/step - loss: 0.7078 - acc: 0.7598 - val_loss: 0.7072 - val_acc: 0.7613\n",
      "Epoch 25/100\n",
      "50000/50000 [==============================] - 18s 359us/step - loss: 0.7049 - acc: 0.7614 - val_loss: 0.7019 - val_acc: 0.7648\n",
      "Epoch 26/100\n",
      "50000/50000 [==============================] - 18s 358us/step - loss: 0.7026 - acc: 0.7614 - val_loss: 0.6967 - val_acc: 0.7686\n",
      "Epoch 27/100\n",
      "50000/50000 [==============================] - 18s 358us/step - loss: 0.6955 - acc: 0.7651 - val_loss: 0.7320 - val_acc: 0.7516\n",
      "Epoch 28/100\n",
      "50000/50000 [==============================] - 18s 357us/step - loss: 0.6901 - acc: 0.7672 - val_loss: 0.6905 - val_acc: 0.7687\n",
      "Epoch 29/100\n",
      "50000/50000 [==============================] - 18s 359us/step - loss: 0.6856 - acc: 0.7677 - val_loss: 0.7127 - val_acc: 0.7581\n",
      "Epoch 30/100\n",
      "50000/50000 [==============================] - 18s 360us/step - loss: 0.6797 - acc: 0.7725 - val_loss: 0.6839 - val_acc: 0.7686\n",
      "Epoch 31/100\n",
      "50000/50000 [==============================] - 18s 359us/step - loss: 0.6785 - acc: 0.7716 - val_loss: 0.6870 - val_acc: 0.7672\n",
      "Epoch 32/100\n",
      "50000/50000 [==============================] - 18s 359us/step - loss: 0.6771 - acc: 0.7728 - val_loss: 0.6642 - val_acc: 0.7747\n",
      "Epoch 33/100\n",
      "50000/50000 [==============================] - 18s 360us/step - loss: 0.6691 - acc: 0.7765 - val_loss: 0.6585 - val_acc: 0.7787\n",
      "Epoch 34/100\n",
      "50000/50000 [==============================] - 18s 361us/step - loss: 0.6668 - acc: 0.7778 - val_loss: 0.6730 - val_acc: 0.7726\n",
      "Epoch 35/100\n",
      "50000/50000 [==============================] - 18s 355us/step - loss: 0.6617 - acc: 0.7777 - val_loss: 0.6811 - val_acc: 0.7721\n",
      "Epoch 36/100\n",
      "50000/50000 [==============================] - 18s 355us/step - loss: 0.6596 - acc: 0.7774 - val_loss: 0.6763 - val_acc: 0.7740\n",
      "Epoch 37/100\n",
      "50000/50000 [==============================] - 18s 358us/step - loss: 0.6571 - acc: 0.7786 - val_loss: 0.6558 - val_acc: 0.7783\n",
      "Epoch 38/100\n",
      "50000/50000 [==============================] - 18s 359us/step - loss: 0.6545 - acc: 0.7803 - val_loss: 0.6959 - val_acc: 0.7690\n",
      "Epoch 39/100\n",
      "50000/50000 [==============================] - 18s 359us/step - loss: 0.6458 - acc: 0.7841 - val_loss: 0.6777 - val_acc: 0.7771\n",
      "Epoch 40/100\n",
      "50000/50000 [==============================] - 18s 356us/step - loss: 0.6469 - acc: 0.7837 - val_loss: 0.6951 - val_acc: 0.7712\n",
      "Epoch 41/100\n",
      "50000/50000 [==============================] - 18s 358us/step - loss: 0.6454 - acc: 0.7821 - val_loss: 0.6685 - val_acc: 0.7733\n",
      "Epoch 42/100\n",
      "50000/50000 [==============================] - 18s 357us/step - loss: 0.6439 - acc: 0.7857 - val_loss: 0.6484 - val_acc: 0.7870\n",
      "Epoch 43/100\n",
      "50000/50000 [==============================] - 18s 358us/step - loss: 0.6384 - acc: 0.7850 - val_loss: 0.6534 - val_acc: 0.7822\n",
      "Epoch 44/100\n",
      "50000/50000 [==============================] - 18s 356us/step - loss: 0.6382 - acc: 0.7865 - val_loss: 0.6513 - val_acc: 0.7841\n",
      "Epoch 45/100\n",
      "50000/50000 [==============================] - 18s 358us/step - loss: 0.6349 - acc: 0.7865 - val_loss: 0.6757 - val_acc: 0.7826\n",
      "Epoch 46/100\n",
      "50000/50000 [==============================] - 18s 356us/step - loss: 0.6307 - acc: 0.7889 - val_loss: 0.6633 - val_acc: 0.7787\n",
      "Epoch 47/100\n",
      "50000/50000 [==============================] - 18s 358us/step - loss: 0.6336 - acc: 0.7890 - val_loss: 0.7026 - val_acc: 0.7737\n",
      "Epoch 48/100\n",
      "50000/50000 [==============================] - 18s 358us/step - loss: 0.6303 - acc: 0.7895 - val_loss: 0.6982 - val_acc: 0.7735\n",
      "Epoch 49/100\n",
      "50000/50000 [==============================] - 18s 358us/step - loss: 0.6277 - acc: 0.7904 - val_loss: 0.6691 - val_acc: 0.7830\n",
      "Epoch 50/100\n",
      "50000/50000 [==============================] - 18s 358us/step - loss: 0.6238 - acc: 0.7924 - val_loss: 0.6492 - val_acc: 0.7827\n",
      "Epoch 51/100\n",
      "50000/50000 [==============================] - 18s 356us/step - loss: 0.6248 - acc: 0.7915 - val_loss: 0.6867 - val_acc: 0.7707\n",
      "Epoch 52/100\n",
      "50000/50000 [==============================] - 18s 359us/step - loss: 0.6214 - acc: 0.7942 - val_loss: 0.6554 - val_acc: 0.7865\n",
      "Epoch 53/100\n",
      "50000/50000 [==============================] - 18s 356us/step - loss: 0.6196 - acc: 0.7923 - val_loss: 0.6520 - val_acc: 0.7775\n",
      "Epoch 54/100\n",
      "50000/50000 [==============================] - 18s 358us/step - loss: 0.6194 - acc: 0.7940 - val_loss: 0.6397 - val_acc: 0.7888\n",
      "Epoch 55/100\n",
      "50000/50000 [==============================] - 18s 355us/step - loss: 0.6126 - acc: 0.7937 - val_loss: 0.6254 - val_acc: 0.7926\n",
      "Epoch 56/100\n",
      "50000/50000 [==============================] - 18s 358us/step - loss: 0.6132 - acc: 0.7952 - val_loss: 0.6379 - val_acc: 0.7866\n",
      "Epoch 57/100\n",
      "50000/50000 [==============================] - 18s 357us/step - loss: 0.6124 - acc: 0.7980 - val_loss: 0.7737 - val_acc: 0.7754\n",
      "Epoch 58/100\n",
      "50000/50000 [==============================] - 18s 355us/step - loss: 0.6114 - acc: 0.7972 - val_loss: 0.6519 - val_acc: 0.7849\n"
     ]
    },
    {
     "name": "stdout",
     "output_type": "stream",
     "text": [
      "Epoch 59/100\n",
      "50000/50000 [==============================] - 18s 353us/step - loss: 0.6096 - acc: 0.7977 - val_loss: 0.6967 - val_acc: 0.7847\n",
      "Epoch 60/100\n",
      "50000/50000 [==============================] - 18s 354us/step - loss: 0.6103 - acc: 0.7974 - val_loss: 0.6431 - val_acc: 0.7932\n",
      "Epoch 61/100\n",
      "50000/50000 [==============================] - 18s 354us/step - loss: 0.6090 - acc: 0.7983 - val_loss: 0.6463 - val_acc: 0.7910\n",
      "Epoch 62/100\n",
      "50000/50000 [==============================] - 18s 357us/step - loss: 0.6099 - acc: 0.7989 - val_loss: 0.6493 - val_acc: 0.7874\n",
      "Epoch 63/100\n",
      "50000/50000 [==============================] - 18s 355us/step - loss: 0.6088 - acc: 0.7980 - val_loss: 0.6821 - val_acc: 0.7744\n",
      "Epoch 64/100\n",
      "50000/50000 [==============================] - 18s 356us/step - loss: 0.6052 - acc: 0.7981 - val_loss: 0.6609 - val_acc: 0.7856\n",
      "Epoch 65/100\n",
      "50000/50000 [==============================] - 18s 360us/step - loss: 0.6044 - acc: 0.7992 - val_loss: 0.7015 - val_acc: 0.7790\n",
      "Epoch 66/100\n",
      "50000/50000 [==============================] - 18s 358us/step - loss: 0.6035 - acc: 0.7986 - val_loss: 0.6699 - val_acc: 0.7957\n",
      "Epoch 67/100\n",
      "50000/50000 [==============================] - 18s 358us/step - loss: 0.6057 - acc: 0.7984 - val_loss: 0.6863 - val_acc: 0.7845\n",
      "Epoch 68/100\n",
      "50000/50000 [==============================] - 18s 357us/step - loss: 0.6047 - acc: 0.8001 - val_loss: 0.7117 - val_acc: 0.7739\n",
      "Epoch 69/100\n",
      "50000/50000 [==============================] - 18s 357us/step - loss: 0.6134 - acc: 0.7961 - val_loss: 0.6408 - val_acc: 0.7930\n",
      "Epoch 70/100\n",
      "50000/50000 [==============================] - 18s 358us/step - loss: 0.6043 - acc: 0.7995 - val_loss: 0.6623 - val_acc: 0.7886\n",
      "Epoch 71/100\n",
      "50000/50000 [==============================] - 18s 357us/step - loss: 0.6033 - acc: 0.7978 - val_loss: 0.7186 - val_acc: 0.7741\n",
      "Epoch 72/100\n",
      "50000/50000 [==============================] - 18s 358us/step - loss: 0.6021 - acc: 0.8010 - val_loss: 0.7220 - val_acc: 0.7778\n",
      "Epoch 73/100\n",
      "50000/50000 [==============================] - 18s 358us/step - loss: 0.5971 - acc: 0.8021 - val_loss: 0.6455 - val_acc: 0.7913\n",
      "Epoch 74/100\n",
      "50000/50000 [==============================] - 18s 357us/step - loss: 0.5981 - acc: 0.8007 - val_loss: 0.6929 - val_acc: 0.7739\n",
      "Epoch 75/100\n",
      "50000/50000 [==============================] - 18s 357us/step - loss: 0.6045 - acc: 0.7995 - val_loss: 0.6458 - val_acc: 0.7892\n",
      "Epoch 76/100\n",
      "50000/50000 [==============================] - 18s 357us/step - loss: 0.6019 - acc: 0.8004 - val_loss: 0.6871 - val_acc: 0.7721\n",
      "Epoch 77/100\n",
      "50000/50000 [==============================] - 18s 358us/step - loss: 0.6024 - acc: 0.7995 - val_loss: 0.6706 - val_acc: 0.7866\n",
      "Epoch 78/100\n",
      "50000/50000 [==============================] - 18s 356us/step - loss: 0.5968 - acc: 0.8019 - val_loss: 0.6363 - val_acc: 0.7919\n",
      "Epoch 79/100\n",
      "50000/50000 [==============================] - 18s 357us/step - loss: 0.5992 - acc: 0.7992 - val_loss: 0.6844 - val_acc: 0.7804\n",
      "Epoch 80/100\n",
      "50000/50000 [==============================] - 18s 356us/step - loss: 0.6024 - acc: 0.8007 - val_loss: 0.6887 - val_acc: 0.7835\n",
      "Epoch 81/100\n",
      "50000/50000 [==============================] - 18s 357us/step - loss: 0.6017 - acc: 0.8005 - val_loss: 0.7155 - val_acc: 0.7731\n",
      "Epoch 82/100\n",
      "50000/50000 [==============================] - 18s 358us/step - loss: 0.5973 - acc: 0.8010 - val_loss: 0.6733 - val_acc: 0.7840\n",
      "Epoch 83/100\n",
      "50000/50000 [==============================] - 18s 357us/step - loss: 0.5952 - acc: 0.8001 - val_loss: 0.6517 - val_acc: 0.7873\n",
      "Epoch 84/100\n",
      "50000/50000 [==============================] - 18s 358us/step - loss: 0.5977 - acc: 0.8024 - val_loss: 0.7525 - val_acc: 0.7609\n",
      "Epoch 85/100\n",
      "50000/50000 [==============================] - 18s 357us/step - loss: 0.5977 - acc: 0.8010 - val_loss: 0.6758 - val_acc: 0.7785\n",
      "Epoch 86/100\n",
      "50000/50000 [==============================] - 18s 357us/step - loss: 0.5942 - acc: 0.8033 - val_loss: 0.6803 - val_acc: 0.7779\n",
      "Epoch 87/100\n",
      "50000/50000 [==============================] - 18s 358us/step - loss: 0.5926 - acc: 0.8042 - val_loss: 0.6957 - val_acc: 0.7783\n",
      "Epoch 88/100\n",
      "50000/50000 [==============================] - 18s 357us/step - loss: 0.5980 - acc: 0.8026 - val_loss: 0.6732 - val_acc: 0.7839\n",
      "Epoch 89/100\n",
      "50000/50000 [==============================] - 18s 358us/step - loss: 0.5957 - acc: 0.8021 - val_loss: 0.6560 - val_acc: 0.7871\n",
      "Epoch 90/100\n",
      "50000/50000 [==============================] - 18s 358us/step - loss: 0.5945 - acc: 0.8026 - val_loss: 0.6682 - val_acc: 0.7850\n",
      "Epoch 91/100\n",
      "50000/50000 [==============================] - 18s 357us/step - loss: 0.5994 - acc: 0.8024 - val_loss: 0.7066 - val_acc: 0.7764\n",
      "Epoch 92/100\n",
      "50000/50000 [==============================] - 18s 357us/step - loss: 0.5972 - acc: 0.8031 - val_loss: 0.6695 - val_acc: 0.7864\n",
      "Epoch 93/100\n",
      "50000/50000 [==============================] - 18s 356us/step - loss: 0.6011 - acc: 0.8005 - val_loss: 0.6808 - val_acc: 0.7906\n",
      "Epoch 94/100\n",
      "50000/50000 [==============================] - 18s 360us/step - loss: 0.6051 - acc: 0.7991 - val_loss: 0.6829 - val_acc: 0.7804\n",
      "Epoch 95/100\n",
      "50000/50000 [==============================] - 18s 359us/step - loss: 0.5951 - acc: 0.8032 - val_loss: 0.7125 - val_acc: 0.7772\n",
      "Epoch 96/100\n",
      "50000/50000 [==============================] - 18s 357us/step - loss: 0.5971 - acc: 0.8044 - val_loss: 0.7363 - val_acc: 0.7654\n",
      "Epoch 97/100\n",
      "50000/50000 [==============================] - 18s 363us/step - loss: 0.6007 - acc: 0.8023 - val_loss: 0.7546 - val_acc: 0.7648\n",
      "Epoch 98/100\n",
      "50000/50000 [==============================] - 18s 356us/step - loss: 0.6029 - acc: 0.8011 - val_loss: 0.7144 - val_acc: 0.7709\n",
      "Epoch 99/100\n",
      "50000/50000 [==============================] - 18s 358us/step - loss: 0.5997 - acc: 0.8028 - val_loss: 0.6710 - val_acc: 0.7857\n",
      "Epoch 100/100\n",
      "50000/50000 [==============================] - 18s 357us/step - loss: 0.6010 - acc: 0.8016 - val_loss: 0.7183 - val_acc: 0.7677\n"
     ]
    },
    {
     "data": {
      "text/plain": [
       "<tensorflow.python.keras.callbacks.History at 0x7ff550ded2b0>"
      ]
     },
     "execution_count": 26,
     "metadata": {},
     "output_type": "execute_result"
    }
   ],
   "source": [
    "model.fit(x_train, y_train,\n",
    "              batch_size=batch_size,\n",
    "              epochs=epochs,\n",
    "              validation_data=(x_test, y_test),\n",
    "              shuffle=True)"
   ]
  },
  {
   "cell_type": "code",
   "execution_count": 27,
   "metadata": {},
   "outputs": [
    {
     "name": "stdout",
     "output_type": "stream",
     "text": [
      "Saved trained model at /home/s/Sven.Krippendorf/Nextcloud/ml_physics_lectures/mynotebooks/saved_models/keras_cifar10_trained_model.h5 \n",
      "10000/10000 [==============================] - 1s 127us/step\n",
      "Test loss: 0.7182672072410583\n",
      "Test accuracy: 0.7677\n"
     ]
    }
   ],
   "source": [
    "# Save model and weights\n",
    "if not os.path.isdir(save_dir):\n",
    "    os.makedirs(save_dir)\n",
    "model_path = os.path.join(save_dir, model_name)\n",
    "model.save(model_path)\n",
    "print('Saved trained model at %s ' % model_path)\n",
    "\n",
    "# Score trained model.\n",
    "scores = model.evaluate(x_test, y_test, verbose=1)\n",
    "print('Test loss:', scores[0])\n",
    "print('Test accuracy:', scores[1])"
   ]
  },
  {
   "cell_type": "code",
   "execution_count": null,
   "metadata": {},
   "outputs": [],
   "source": []
  }
 ],
 "metadata": {
  "kernelspec": {
   "display_name": "Python 3",
   "language": "python",
   "name": "python3"
  },
  "language_info": {
   "codemirror_mode": {
    "name": "ipython",
    "version": 3
   },
   "file_extension": ".py",
   "mimetype": "text/x-python",
   "name": "python",
   "nbconvert_exporter": "python",
   "pygments_lexer": "ipython3",
   "version": "3.6.8"
  }
 },
 "nbformat": 4,
 "nbformat_minor": 2
}
